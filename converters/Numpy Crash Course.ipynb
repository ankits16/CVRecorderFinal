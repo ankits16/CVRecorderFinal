{
 "cells": [
  {
   "cell_type": "code",
   "execution_count": 1,
   "id": "bcd0394f",
   "metadata": {},
   "outputs": [],
   "source": [
    "import numpy as np"
   ]
  },
  {
   "cell_type": "markdown",
   "id": "d4f8aa54",
   "metadata": {},
   "source": [
    "- lets replicate the yolo predictions\n",
    "- grid = 2,2\n",
    "- each grid will have 3 boxes\n",
    "- there will be 3 classes\n"
   ]
  },
  {
   "cell_type": "code",
   "execution_count": 52,
   "id": "fa72017f",
   "metadata": {},
   "outputs": [],
   "source": [
    "GRID_SIZE = 3\n",
    "num_classes = 2\n",
    "BOXES_PER_CELL = 3\n",
    "# x,y,w,h,o,c1.c2.....,cn (5+CLASSES_NUM)"
   ]
  },
  {
   "cell_type": "code",
   "execution_count": 46,
   "id": "f0963ae1",
   "metadata": {},
   "outputs": [
    {
     "name": "stdout",
     "output_type": "stream",
     "text": [
      "(1, 21, 2, 2)\n",
      "[[[[ 0  1]\n",
      "   [ 2  3]]\n",
      "\n",
      "  [[ 4  5]\n",
      "   [ 6  7]]\n",
      "\n",
      "  [[ 8  9]\n",
      "   [10 11]]\n",
      "\n",
      "  [[12 13]\n",
      "   [14 15]]\n",
      "\n",
      "  [[16 17]\n",
      "   [18 19]]\n",
      "\n",
      "  [[20 21]\n",
      "   [22 23]]\n",
      "\n",
      "  [[24 25]\n",
      "   [26 27]]\n",
      "\n",
      "  [[28 29]\n",
      "   [30 31]]\n",
      "\n",
      "  [[32 33]\n",
      "   [34 35]]\n",
      "\n",
      "  [[36 37]\n",
      "   [38 39]]\n",
      "\n",
      "  [[40 41]\n",
      "   [42 43]]\n",
      "\n",
      "  [[44 45]\n",
      "   [46 47]]\n",
      "\n",
      "  [[48 49]\n",
      "   [50 51]]\n",
      "\n",
      "  [[52 53]\n",
      "   [54 55]]\n",
      "\n",
      "  [[56 57]\n",
      "   [58 59]]\n",
      "\n",
      "  [[60 61]\n",
      "   [62 63]]\n",
      "\n",
      "  [[64 65]\n",
      "   [66 67]]\n",
      "\n",
      "  [[68 69]\n",
      "   [70 71]]\n",
      "\n",
      "  [[72 73]\n",
      "   [74 75]]\n",
      "\n",
      "  [[76 77]\n",
      "   [78 79]]\n",
      "\n",
      "  [[80 81]\n",
      "   [82 83]]]]\n"
     ]
    }
   ],
   "source": [
    "total_ele = ((5 + num_classes) * ANCHORS_NUM) * GRID_SIZE * GRID_SIZE\n",
    "raw_preds = np.arange(total_ele).reshape(1, (5 + num_classes) * BOXES_PER_CELL , GRID_SIZE, GRID_SIZE)\n",
    "print(raw_preds.shape) \n",
    "print(raw_preds) "
   ]
  },
  {
   "cell_type": "code",
   "execution_count": 47,
   "id": "64a559ce",
   "metadata": {},
   "outputs": [
    {
     "name": "stdout",
     "output_type": "stream",
     "text": [
      "(1, 2, 2, 21)\n",
      "[[[[ 0  4  8 12 16 20 24 28 32 36 40 44 48 52 56 60 64 68 72 76 80]\n",
      "   [ 1  5  9 13 17 21 25 29 33 37 41 45 49 53 57 61 65 69 73 77 81]]\n",
      "\n",
      "  [[ 2  6 10 14 18 22 26 30 34 38 42 46 50 54 58 62 66 70 74 78 82]\n",
      "   [ 3  7 11 15 19 23 27 31 35 39 43 47 51 55 59 63 67 71 75 79 83]]]]\n"
     ]
    }
   ],
   "source": [
    "raw_preds = np.transpose(raw_preds, (0, 2, 3, 1))\n",
    "print(raw_preds.shape) \n",
    "print(raw_preds) "
   ]
  },
  {
   "cell_type": "code",
   "execution_count": 48,
   "id": "5f897eea",
   "metadata": {},
   "outputs": [
    {
     "name": "stdout",
     "output_type": "stream",
     "text": [
      "(1, 4, 3, 7)\n",
      "[[[[ 0  4  8 12 16 20 24]\n",
      "   [28 32 36 40 44 48 52]\n",
      "   [56 60 64 68 72 76 80]]\n",
      "\n",
      "  [[ 1  5  9 13 17 21 25]\n",
      "   [29 33 37 41 45 49 53]\n",
      "   [57 61 65 69 73 77 81]]\n",
      "\n",
      "  [[ 2  6 10 14 18 22 26]\n",
      "   [30 34 38 42 46 50 54]\n",
      "   [58 62 66 70 74 78 82]]\n",
      "\n",
      "  [[ 3  7 11 15 19 23 27]\n",
      "   [31 35 39 43 47 51 55]\n",
      "   [59 63 67 71 75 79 83]]]]\n"
     ]
    }
   ],
   "source": [
    "raw_preds = raw_preds.reshape((1, GRID_SIZE**2, BOXES_PER_CELL, num_classes + 5))\n",
    "print(raw_preds.shape) \n",
    "print(raw_preds) "
   ]
  },
  {
   "cell_type": "code",
   "execution_count": 49,
   "id": "6cdd8f3a",
   "metadata": {},
   "outputs": [
    {
     "data": {
      "text/plain": [
       "array([[[ 0, 28, 56],\n",
       "        [ 1, 29, 57],\n",
       "        [ 2, 30, 58],\n",
       "        [ 3, 31, 59]]])"
      ]
     },
     "execution_count": 49,
     "metadata": {},
     "output_type": "execute_result"
    }
   ],
   "source": [
    "tx = raw_preds[:,:,:,0]\n",
    "tx"
   ]
  },
  {
   "cell_type": "code",
   "execution_count": 38,
   "id": "f4949921",
   "metadata": {},
   "outputs": [
    {
     "data": {
      "text/plain": [
       "array([[[ 4, 32, 60],\n",
       "        [ 5, 33, 61],\n",
       "        [ 6, 34, 62],\n",
       "        [ 7, 35, 63]]])"
      ]
     },
     "execution_count": 38,
     "metadata": {},
     "output_type": "execute_result"
    }
   ],
   "source": [
    "ty = raw_preds[:,:,:,1]\n",
    "ty"
   ]
  },
  {
   "cell_type": "code",
   "execution_count": 68,
   "id": "18181a7b",
   "metadata": {},
   "outputs": [
    {
     "name": "stdout",
     "output_type": "stream",
     "text": [
      "[0 1 2 0 1 2 0 1 2]\n",
      "------------------\n",
      "[[[0]\n",
      "  [1]\n",
      "  [2]\n",
      "  [0]\n",
      "  [1]\n",
      "  [2]\n",
      "  [0]\n",
      "  [1]\n",
      "  [2]]]\n"
     ]
    }
   ],
   "source": [
    "CX = np.tile(np.arange(GRID_SIZE), GRID_SIZE)\n",
    "print(CX)\n",
    "print('------------------')\n",
    "CX = CX.reshape(1, GRID_SIZE**2, 1)\n",
    "print(CX)"
   ]
  },
  {
   "cell_type": "code",
   "execution_count": 72,
   "id": "c99b07f9",
   "metadata": {},
   "outputs": [
    {
     "name": "stdout",
     "output_type": "stream",
     "text": [
      "[0 1 2 0 1 2 0 1 2]\n",
      "--------CY.reshape(1, GRID_SIZE, GRID_SIZE)----------\n",
      "crrent shape (1, 3, 3)\n",
      "[[[0 1 2]\n",
      "  [0 1 2]\n",
      "  [0 1 2]]]\n",
      "--------CY = CY.T----------\n",
      "transposed shape (3, 3, 1)\n",
      "[[[0]\n",
      "  [0]\n",
      "  [0]]\n",
      "\n",
      " [[1]\n",
      "  [1]\n",
      "  [1]]\n",
      "\n",
      " [[2]\n",
      "  [2]\n",
      "  [2]]]\n",
      "---------CY = CY.reshape(1, GRID_SIZE**2, 1)---------\n",
      "[[[0]\n",
      "  [0]\n",
      "  [0]\n",
      "  [1]\n",
      "  [1]\n",
      "  [1]\n",
      "  [2]\n",
      "  [2]\n",
      "  [2]]]\n",
      "------------------\n"
     ]
    }
   ],
   "source": [
    "CY = np.tile(np.arange(GRID_SIZE), GRID_SIZE)\n",
    "print(CY)\n",
    "print('--------CY.reshape(1, GRID_SIZE, GRID_SIZE)----------')\n",
    "CY = CY.reshape(1, GRID_SIZE, GRID_SIZE)\n",
    "print(f'crrent shape {CY.shape}')\n",
    "print(CY)\n",
    "print('--------CY = CY.T----------')\n",
    "CY = CY.T\n",
    "print(f'transposed shape {CY.shape}')\n",
    "print(CY)\n",
    "print('---------CY = CY.reshape(1, GRID_SIZE**2, 1)---------')\n",
    "CY = CY.reshape(1, GRID_SIZE**2, 1)\n",
    "print(CY)\n",
    "print('------------------')"
   ]
  },
  {
   "cell_type": "code",
   "execution_count": 66,
   "id": "19430124",
   "metadata": {},
   "outputs": [
    {
     "name": "stdout",
     "output_type": "stream",
     "text": [
      "(2, 2, 3)\n",
      "[[[ 0  1  2]\n",
      "  [ 3  4  5]]\n",
      "\n",
      " [[ 6  7  8]\n",
      "  [ 9 10 11]]]\n",
      "------------ after reshape\n",
      "(12,)\n",
      "[ 0  1  2  3  4  5  6  7  8  9 10 11]\n"
     ]
    }
   ],
   "source": [
    "test_arr = np.arange(12).reshape(2,2,3)\n",
    "print(test_arr.shape) \n",
    "print(test_arr)\n",
    "test_arr = test_arr.reshape(-1)\n",
    "print('------------ after reshape')\n",
    "print(test_arr.shape) \n",
    "print(test_arr)"
   ]
  },
  {
   "cell_type": "code",
   "execution_count": null,
   "id": "c9033330",
   "metadata": {},
   "outputs": [],
   "source": [
    "test_arr"
   ]
  }
 ],
 "metadata": {
  "kernelspec": {
   "display_name": "Python 3 (ipykernel)",
   "language": "python",
   "name": "python3"
  },
  "language_info": {
   "codemirror_mode": {
    "name": "ipython",
    "version": 3
   },
   "file_extension": ".py",
   "mimetype": "text/x-python",
   "name": "python",
   "nbconvert_exporter": "python",
   "pygments_lexer": "ipython3",
   "version": "3.8.3"
  }
 },
 "nbformat": 4,
 "nbformat_minor": 5
}
