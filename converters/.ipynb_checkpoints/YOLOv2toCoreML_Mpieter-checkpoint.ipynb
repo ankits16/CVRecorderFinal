{
 "cells": [
  {
   "cell_type": "markdown",
   "id": "246ad9a2",
   "metadata": {},
   "source": [
    "reference:\n",
    "- https://github.com/MPieter/YOLOv4-CoreML-Converter/blob/master/convert.py\n",
    "- https://www.codeproject.com/script/Content/ViewReadingList.aspx?rlid=33"
   ]
  },
  {
   "cell_type": "code",
   "execution_count": null,
   "id": "4151eed3",
   "metadata": {},
   "outputs": [],
   "source": [
    "yolov2_weights = 'yolov2-voc.weights'\n",
    "cml_model_path = './models/yolov2-coco-9.mlmodel'"
   ]
  }
 ],
 "metadata": {
  "kernelspec": {
   "display_name": "Python 3 (ipykernel)",
   "language": "python",
   "name": "python3"
  },
  "language_info": {
   "codemirror_mode": {
    "name": "ipython",
    "version": 3
   },
   "file_extension": ".py",
   "mimetype": "text/x-python",
   "name": "python",
   "nbconvert_exporter": "python",
   "pygments_lexer": "ipython3",
   "version": "3.8.3"
  }
 },
 "nbformat": 4,
 "nbformat_minor": 5
}
