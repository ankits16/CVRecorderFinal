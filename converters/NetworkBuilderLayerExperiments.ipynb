{
 "cells": [
  {
   "cell_type": "code",
   "execution_count": 238,
   "id": "86cb5d7e",
   "metadata": {},
   "outputs": [],
   "source": [
    "from coremltools.models.neural_network import datatypes, NeuralNetworkBuilder\n",
    "from coremltools.models.utils import save_spec\n",
    "import numpy as np\n",
    "import coremltools as ct\n",
    "from coremltools.models.neural_network.flexible_shape_utils import NeuralNetworkMultiArrayShape, NeuralNetworkMultiArrayShapeRange"
   ]
  },
  {
   "cell_type": "code",
   "execution_count": 285,
   "id": "ad440152",
   "metadata": {},
   "outputs": [],
   "source": [
    "dtype = 'float32'\n",
    "input_dim = [1,1,1,4]"
   ]
  },
  {
   "cell_type": "code",
   "execution_count": 286,
   "id": "95043138",
   "metadata": {},
   "outputs": [
    {
     "data": {
      "text/plain": [
       "[('input1', Array({1,1,1,4}))]"
      ]
     },
     "execution_count": 286,
     "metadata": {},
     "output_type": "execute_result"
    }
   ],
   "source": [
    "inputs = [('input1', datatypes.Array(*input_dim))]\n",
    "inputs"
   ]
  },
  {
   "cell_type": "code",
   "execution_count": 287,
   "id": "a8413fb5",
   "metadata": {},
   "outputs": [],
   "source": [
    "output = [('output', None)]"
   ]
  },
  {
   "cell_type": "code",
   "execution_count": null,
   "id": "133a9e0c",
   "metadata": {},
   "outputs": [],
   "source": []
  },
  {
   "cell_type": "code",
   "execution_count": 321,
   "id": "92e1edee",
   "metadata": {},
   "outputs": [],
   "source": [
    "builder = NeuralNetworkBuilder(inputs, output, disable_rank5_shape_mapping=True)"
   ]
  },
  {
   "cell_type": "code",
   "execution_count": 322,
   "id": "9d5eeb84",
   "metadata": {},
   "outputs": [],
   "source": [
    "input_ma_shape = builder.spec.description.input[0].type.multiArrayType\n",
    "\n",
    "input_ma_shape.shapeRange.sizeRanges.add()\n",
    "input_ma_shape.shapeRange.sizeRanges.add()\n",
    "input_ma_shape.shapeRange.sizeRanges.add()\n",
    "input_ma_shape.shapeRange.sizeRanges.add()\n",
    "\n",
    "\n",
    "input_ma_shape.shapeRange.sizeRanges[0].lowerBound = 1\n",
    "input_ma_shape.shapeRange.sizeRanges[0].upperBound = 1\n",
    "\n",
    "input_ma_shape.shapeRange.sizeRanges[1].lowerBound = 1\n",
    "input_ma_shape.shapeRange.sizeRanges[1].upperBound = 1\n",
    "\n",
    "input_ma_shape.shapeRange.sizeRanges[2].lowerBound = 1\n",
    "input_ma_shape.shapeRange.sizeRanges[2].upperBound = -1\n",
    "\n",
    "input_ma_shape.shapeRange.sizeRanges[3].lowerBound = 1\n",
    "input_ma_shape.shapeRange.sizeRanges[3].upperBound = -1"
   ]
  },
  {
   "cell_type": "code",
   "execution_count": 323,
   "id": "995ea1d3",
   "metadata": {},
   "outputs": [],
   "source": [
    "# output_ma_shape = builder.spec.description.output[0].type.multiArrayType\n",
    "\n",
    "# output_ma_shape.shapeRange.sizeRanges.add()\n",
    "# output_ma_shape.shapeRange.sizeRanges[0].lowerBound = 1\n",
    "# output_ma_shape.shapeRange.sizeRanges[0].upperBound = -1\n",
    "\n",
    "# output_ma_shape.shapeRange.sizeRanges.add()\n",
    "# output_ma_shape.shapeRange.sizeRanges[1].lowerBound = 1\n",
    "# output_ma_shape.shapeRange.sizeRanges[1].upperBound = -1"
   ]
  },
  {
   "cell_type": "code",
   "execution_count": 324,
   "id": "35fd5595",
   "metadata": {},
   "outputs": [
    {
     "data": {
      "text/plain": [
       "name: \"squeeze\"\n",
       "input: \"input1\"\n",
       "output: \"output\"\n",
       "squeeze {\n",
       "  squeezeAll: true\n",
       "}"
      ]
     },
     "execution_count": 324,
     "metadata": {},
     "output_type": "execute_result"
    }
   ],
   "source": [
    "\n",
    "# builder.add_argmax(name='argmax', input_name='input1', output_name='output', axis=3)\n",
    "\n",
    "# builder.add_reshape_dynamic(name ='reshape', input_names=['input1'], output_name='output')\n",
    "builder.add_squeeze('squeeze', input_name='input1', output_name='output', squeeze_all=True)\n",
    "# builder.add_reshape_static(name ='reshape', input_name='input1',output_name='output', output_shape= (2,2))"
   ]
  },
  {
   "cell_type": "code",
   "execution_count": null,
   "id": "80224456",
   "metadata": {},
   "outputs": [],
   "source": []
  },
  {
   "cell_type": "code",
   "execution_count": 325,
   "id": "42c2bf16",
   "metadata": {},
   "outputs": [],
   "source": [
    "model = ct.models.MLModel(builder.spec)"
   ]
  },
  {
   "cell_type": "code",
   "execution_count": 326,
   "id": "6b1965c1",
   "metadata": {},
   "outputs": [
    {
     "name": "stdout",
     "output_type": "stream",
     "text": [
      "input {\n",
      "  name: \"input1\"\n",
      "  type {\n",
      "    multiArrayType {\n",
      "      shape: 1\n",
      "      shape: 1\n",
      "      shape: 1\n",
      "      shape: 4\n",
      "      dataType: DOUBLE\n",
      "      shapeRange {\n",
      "        sizeRanges {\n",
      "          lowerBound: 1\n",
      "          upperBound: 1\n",
      "        }\n",
      "        sizeRanges {\n",
      "          lowerBound: 1\n",
      "          upperBound: 1\n",
      "        }\n",
      "        sizeRanges {\n",
      "          lowerBound: 1\n",
      "          upperBound: -1\n",
      "        }\n",
      "        sizeRanges {\n",
      "          lowerBound: 1\n",
      "          upperBound: -1\n",
      "        }\n",
      "      }\n",
      "    }\n",
      "  }\n",
      "}\n",
      "output {\n",
      "  name: \"output\"\n",
      "  type {\n",
      "    multiArrayType {\n",
      "      dataType: DOUBLE\n",
      "    }\n",
      "  }\n",
      "}\n",
      "\n"
     ]
    }
   ],
   "source": [
    "print(model)"
   ]
  },
  {
   "cell_type": "code",
   "execution_count": 327,
   "id": "5e67b74e",
   "metadata": {},
   "outputs": [
    {
     "name": "stdout",
     "output_type": "stream",
     "text": [
      "(1, 1, 2, 4)\n",
      "---------------\n",
      "[[[[0. 1. 2. 3.]\n",
      "   [4. 5. 6. 7.]]]]\n"
     ]
    }
   ],
   "source": [
    "test_arr = np.arange(8).reshape(1,1,2,4).astype(dtype)\n",
    "print(test_arr.shape)\n",
    "print('---------------')\n",
    "print(test_arr)"
   ]
  },
  {
   "cell_type": "code",
   "execution_count": 328,
   "id": "129bf253",
   "metadata": {},
   "outputs": [
    {
     "name": "stdout",
     "output_type": "stream",
     "text": [
      "(2, 4)\n",
      "---------------\n",
      "[[0. 1. 2. 3.]\n",
      " [4. 5. 6. 7.]]\n"
     ]
    }
   ],
   "source": [
    "pred = model.predict(data={'input1': test_arr})['output']\n",
    "# output = np.array(output)\n",
    "print(pred.shape)\n",
    "print('---------------')\n",
    "print(pred)"
   ]
  },
  {
   "cell_type": "code",
   "execution_count": 271,
   "id": "f39a2dd4",
   "metadata": {},
   "outputs": [],
   "source": [
    "input_dim= 4"
   ]
  },
  {
   "cell_type": "code",
   "execution_count": 180,
   "id": "4f4cf171",
   "metadata": {},
   "outputs": [
    {
     "data": {
      "text/plain": [
       "array([0., 1., 2., 3.], dtype=float32)"
      ]
     },
     "execution_count": 180,
     "metadata": {},
     "output_type": "execute_result"
    }
   ],
   "source": [
    "a_np1 = np.arange(input_dim).astype(dtype)\n",
    "a_np1"
   ]
  },
  {
   "cell_type": "code",
   "execution_count": 125,
   "id": "c9d1a1a3",
   "metadata": {},
   "outputs": [
    {
     "data": {
      "text/plain": [
       "array([0., 1., 2., 3.], dtype=float32)"
      ]
     },
     "execution_count": 125,
     "metadata": {},
     "output_type": "execute_result"
    }
   ],
   "source": [
    "a_np2 = np.arange(input_dim).astype(dtype)\n",
    "a_np2"
   ]
  },
  {
   "cell_type": "code",
   "execution_count": 126,
   "id": "592a8dc1",
   "metadata": {},
   "outputs": [
    {
     "data": {
      "text/plain": [
       "array([2., 4., 6., 8.], dtype=float32)"
      ]
     },
     "execution_count": 126,
     "metadata": {},
     "output_type": "execute_result"
    }
   ],
   "source": [
    "b_np = np.add(a_np1, a_np2) + 2\n",
    "b_np"
   ]
  },
  {
   "cell_type": "code",
   "execution_count": null,
   "id": "e55553f9",
   "metadata": {},
   "outputs": [],
   "source": []
  }
 ],
 "metadata": {
  "kernelspec": {
   "display_name": "Python 3 (ipykernel)",
   "language": "python",
   "name": "python3"
  },
  "language_info": {
   "codemirror_mode": {
    "name": "ipython",
    "version": 3
   },
   "file_extension": ".py",
   "mimetype": "text/x-python",
   "name": "python",
   "nbconvert_exporter": "python",
   "pygments_lexer": "ipython3",
   "version": "3.8.3"
  }
 },
 "nbformat": 4,
 "nbformat_minor": 5
}
